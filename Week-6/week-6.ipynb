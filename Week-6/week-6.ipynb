{
 "cells": [
  {
   "cell_type": "markdown",
   "id": "9d54e3b6",
   "metadata": {},
   "source": [
    "## Week-6 By Ashutosh Sahoo"
   ]
  },
  {
   "cell_type": "code",
   "execution_count": 9,
   "id": "82c0897b",
   "metadata": {},
   "outputs": [],
   "source": [
    "# importing libraries\n",
    "import numpy as np\n",
    "import pandas as pd\n",
    "import seaborn as sns\n",
    "from matplotlib import pyplot as plt\n",
    "from sklearn.neighbors import LocalOutlierFactor"
   ]
  },
  {
   "cell_type": "code",
   "execution_count": 10,
   "id": "691e7b99",
   "metadata": {},
   "outputs": [],
   "source": [
    "#load the data\n",
    "train_df = pd.read_csv('train.csv')\n",
    "test_df = pd.read_csv('test.csv')\n",
    "gender_submission_df = pd.read_csv('gender_submission.csv')"
   ]
  },
  {
   "cell_type": "code",
   "execution_count": 11,
   "id": "ebdabe93",
   "metadata": {},
   "outputs": [
    {
     "name": "stdout",
     "output_type": "stream",
     "text": [
      "train datarame:\n",
      "   PassengerId  Survived  Pclass  \\\n",
      "0            1         0       3   \n",
      "1            2         1       1   \n",
      "2            3         1       3   \n",
      "3            4         1       1   \n",
      "4            5         0       3   \n",
      "\n",
      "                                                Name     Sex   Age  SibSp  \\\n",
      "0                            Braund, Mr. Owen Harris    male  22.0      1   \n",
      "1  Cumings, Mrs. John Bradley (Florence Briggs Th...  female  38.0      1   \n",
      "2                             Heikkinen, Miss. Laina  female  26.0      0   \n",
      "3       Futrelle, Mrs. Jacques Heath (Lily May Peel)  female  35.0      1   \n",
      "4                           Allen, Mr. William Henry    male  35.0      0   \n",
      "\n",
      "   Parch            Ticket     Fare Cabin Embarked  \n",
      "0      0         A/5 21171   7.2500   NaN        S  \n",
      "1      0          PC 17599  71.2833   C85        C  \n",
      "2      0  STON/O2. 3101282   7.9250   NaN        S  \n",
      "3      0            113803  53.1000  C123        S  \n",
      "4      0            373450   8.0500   NaN        S  \n",
      "test dataframe:\n",
      "   PassengerId  Pclass                                          Name     Sex  \\\n",
      "0          892       3                              Kelly, Mr. James    male   \n",
      "1          893       3              Wilkes, Mrs. James (Ellen Needs)  female   \n",
      "2          894       2                     Myles, Mr. Thomas Francis    male   \n",
      "3          895       3                              Wirz, Mr. Albert    male   \n",
      "4          896       3  Hirvonen, Mrs. Alexander (Helga E Lindqvist)  female   \n",
      "\n",
      "    Age  SibSp  Parch   Ticket     Fare Cabin Embarked  \n",
      "0  34.5      0      0   330911   7.8292   NaN        Q  \n",
      "1  47.0      1      0   363272   7.0000   NaN        S  \n",
      "2  62.0      0      0   240276   9.6875   NaN        Q  \n",
      "3  27.0      0      0   315154   8.6625   NaN        S  \n",
      "4  22.0      1      1  3101298  12.2875   NaN        S  \n",
      "\n",
      "gender submission dataframe:\n",
      "   PassengerId  Survived\n",
      "0          892         0\n",
      "1          893         1\n",
      "2          894         0\n",
      "3          895         0\n",
      "4          896         1\n",
      "\n",
      "train DataFrame Summary Statistics:\n",
      "       PassengerId    Survived      Pclass         Age       SibSp  \\\n",
      "count   891.000000  891.000000  891.000000  714.000000  891.000000   \n",
      "mean    446.000000    0.383838    2.308642   29.699118    0.523008   \n",
      "std     257.353842    0.486592    0.836071   14.526497    1.102743   \n",
      "min       1.000000    0.000000    1.000000    0.420000    0.000000   \n",
      "25%     223.500000    0.000000    2.000000   20.125000    0.000000   \n",
      "50%     446.000000    0.000000    3.000000   28.000000    0.000000   \n",
      "75%     668.500000    1.000000    3.000000   38.000000    1.000000   \n",
      "max     891.000000    1.000000    3.000000   80.000000    8.000000   \n",
      "\n",
      "            Parch        Fare  \n",
      "count  891.000000  891.000000  \n",
      "mean     0.381594   32.204208  \n",
      "std      0.806057   49.693429  \n",
      "min      0.000000    0.000000  \n",
      "25%      0.000000    7.910400  \n",
      "50%      0.000000   14.454200  \n",
      "75%      0.000000   31.000000  \n",
      "max      6.000000  512.329200  \n",
      "\n",
      "test DataFrame summary Statistics:\n",
      "       PassengerId      Pclass         Age       SibSp       Parch        Fare\n",
      "count   418.000000  418.000000  332.000000  418.000000  418.000000  417.000000\n",
      "mean   1100.500000    2.265550   30.272590    0.447368    0.392344   35.627188\n",
      "std     120.810458    0.841838   14.181209    0.896760    0.981429   55.907576\n",
      "min     892.000000    1.000000    0.170000    0.000000    0.000000    0.000000\n",
      "25%     996.250000    1.000000   21.000000    0.000000    0.000000    7.895800\n",
      "50%    1100.500000    3.000000   27.000000    0.000000    0.000000   14.454200\n",
      "75%    1204.750000    3.000000   39.000000    1.000000    0.000000   31.500000\n",
      "max    1309.000000    3.000000   76.000000    8.000000    9.000000  512.329200\n",
      "\n",
      "missing values in train dataframe:\n",
      "PassengerId      0\n",
      "Survived         0\n",
      "Pclass           0\n",
      "Name             0\n",
      "Sex              0\n",
      "Age            177\n",
      "SibSp            0\n",
      "Parch            0\n",
      "Ticket           0\n",
      "Fare             0\n",
      "Cabin          687\n",
      "Embarked         2\n",
      "dtype: int64\n",
      "\n",
      "missing values in test dataframe:\n",
      "PassengerId      0\n",
      "Pclass           0\n",
      "Name             0\n",
      "Sex              0\n",
      "Age             86\n",
      "SibSp            0\n",
      "Parch            0\n",
      "Ticket           0\n",
      "Fare             1\n",
      "Cabin          327\n",
      "Embarked         0\n",
      "dtype: int64\n"
     ]
    }
   ],
   "source": [
    "# lets see the data set \n",
    "print(\"train datarame:\")\n",
    "print(train_df.head())\n",
    "\n",
    "print(\"test dataframe:\")\n",
    "print(test_df.head())\n",
    "\n",
    "print(\"\\ngender submission dataframe:\")\n",
    "print(gender_submission_df.head())\n",
    "\n",
    "# Display summary statistics\n",
    "print(\"\\ntrain DataFrame Summary Statistics:\")\n",
    "print(train_df.describe())\n",
    "\n",
    "print(\"\\ntest DataFrame summary Statistics:\")\n",
    "print(test_df.describe())\n",
    "\n",
    "# Check for missing values\n",
    "print(\"\\nmissing values in train dataframe:\")\n",
    "print(train_df.isnull().sum())\n",
    "\n",
    "print(\"\\nmissing values in test dataframe:\")\n",
    "print(test_df.isnull().sum())\n"
   ]
  },
  {
   "cell_type": "code",
   "execution_count": 12,
   "id": "2ee46fad",
   "metadata": {},
   "outputs": [],
   "source": [
    "#Check for outliers\n",
    "def outlier_thresholds(dataframe, col_name, q1=0.25, q3=0.75):\n",
    "    quartile1 = dataframe[col_name].quantile(q1)\n",
    "    quartile3 = dataframe[col_name].quantile(q3)\n",
    "    iqr = quartile3 - quartile1\n",
    "    low_limit = quartile1 - 1.5 * iqr\n",
    "    up_limit = quartile3 + 1.5 * iqr\n",
    "    return low_limit, up_limit"
   ]
  },
  {
   "cell_type": "code",
   "execution_count": 13,
   "id": "173f1c61",
   "metadata": {},
   "outputs": [],
   "source": [
    "# removing outliers \n",
    "def replace_with_thresholds(dataframe, variable):\n",
    "    low_limit, up_limit = outlier_thresholds(dataframe, variable)\n",
    "    dataframe.loc[(dataframe[variable] < low_limit), variable] = low_limit\n",
    "    dataframe.loc[(dataframe[variable] > up_limit), variable] = up_limit"
   ]
  },
  {
   "cell_type": "code",
   "execution_count": 14,
   "id": "b0470258",
   "metadata": {},
   "outputs": [],
   "source": [
    "#lets replace some values \n",
    "# handle values \n",
    "def preprocess_data(df):\n",
    "    df['Age'].fillna(df['Age'].median(), inplace=True)\n",
    "    \n",
    "    df['Embarked'].fillna(df['Embarked'].mode()[0], inplace=True)\n",
    "    \n",
    "    df['Title'] = df['Name'].str.extract(' ([A-Za-z]+)\\.', expand=False)\n",
    "    \n",
    "    rare_titles = ['Lady', 'Countess', 'Capt', 'Col', 'Don', 'Dr', 'Major', 'Rev', 'Sir', 'Jonkheer', 'Dona']\n",
    "    df['Title'] = df['Title'].replace(rare_titles, 'Rare')\n",
    "    df['Title'] = df['Title'].replace(['Mlle', 'Ms'], 'Miss')\n",
    "    df['Title'] = df['Title'].replace('Mme', 'Mrs')\n",
    "    \n",
    "    df['FamilySize'] = df['SibSp'] + df['Parch'] + 1\n",
    "    \n",
    "    df['IsAlone'] = 1\n",
    "    df['IsAlone'].loc[df['FamilySize'] > 1] = 0\n",
    "    \n",
    "    df['AgeBin'] = pd.cut(df['Age'].astype(int), 5)\n",
    "    \n",
    "    df['Fare'].fillna(df['Fare'].median(), inplace=True)\n",
    "    df['FareBin'] = pd.qcut(df['Fare'], 4)\n",
    "    \n",
    "\n",
    "    replace_with_thresholds(df, 'Age')\n",
    "    replace_with_thresholds(df, 'Fare')\n",
    "    \n",
    "    return df"
   ]
  },
  {
   "cell_type": "code",
   "execution_count": 15,
   "id": "2d64afc1",
   "metadata": {},
   "outputs": [
    {
     "name": "stderr",
     "output_type": "stream",
     "text": [
      "C:\\Users\\KIIT\\AppData\\Local\\Temp\\ipykernel_12460\\2861694695.py:18: SettingWithCopyWarning: \n",
      "A value is trying to be set on a copy of a slice from a DataFrame\n",
      "\n",
      "See the caveats in the documentation: https://pandas.pydata.org/pandas-docs/stable/user_guide/indexing.html#returning-a-view-versus-a-copy\n",
      "  df['IsAlone'].loc[df['FamilySize'] > 1] = 0\n",
      "C:\\Users\\KIIT\\AppData\\Local\\Temp\\ipykernel_12460\\2861694695.py:18: SettingWithCopyWarning: \n",
      "A value is trying to be set on a copy of a slice from a DataFrame\n",
      "\n",
      "See the caveats in the documentation: https://pandas.pydata.org/pandas-docs/stable/user_guide/indexing.html#returning-a-view-versus-a-copy\n",
      "  df['IsAlone'].loc[df['FamilySize'] > 1] = 0\n"
     ]
    }
   ],
   "source": [
    "# lets preprocess \n",
    "train_df = preprocess_data(train_df)\n",
    "test_df = preprocess_data(test_df)"
   ]
  },
  {
   "cell_type": "code",
   "execution_count": 16,
   "id": "57a002c7",
   "metadata": {},
   "outputs": [
    {
     "name": "stdout",
     "output_type": "stream",
     "text": [
      "   PassengerId  Survived  Pclass  \\\n",
      "0            1         0       3   \n",
      "1            2         1       1   \n",
      "2            3         1       3   \n",
      "3            4         1       1   \n",
      "4            5         0       3   \n",
      "\n",
      "                                                Name     Sex   Age  SibSp  \\\n",
      "0                            Braund, Mr. Owen Harris    male  22.0      1   \n",
      "1  Cumings, Mrs. John Bradley (Florence Briggs Th...  female  38.0      1   \n",
      "2                             Heikkinen, Miss. Laina  female  26.0      0   \n",
      "3       Futrelle, Mrs. Jacques Heath (Lily May Peel)  female  35.0      1   \n",
      "4                           Allen, Mr. William Henry    male  35.0      0   \n",
      "\n",
      "   Parch            Ticket     Fare Cabin Embarked Title  FamilySize  IsAlone  \\\n",
      "0      0         A/5 21171   7.2500   NaN        S    Mr           2        0   \n",
      "1      0          PC 17599  65.6344   C85        C   Mrs           2        0   \n",
      "2      0  STON/O2. 3101282   7.9250   NaN        S  Miss           1        1   \n",
      "3      0            113803  53.1000  C123        S   Mrs           2        0   \n",
      "4      0            373450   8.0500   NaN        S    Mr           1        1   \n",
      "\n",
      "         AgeBin          FareBin  \n",
      "0  (16.0, 32.0]   (-0.001, 7.91]  \n",
      "1  (32.0, 48.0]  (31.0, 512.329]  \n",
      "2  (16.0, 32.0]   (7.91, 14.454]  \n",
      "3  (32.0, 48.0]  (31.0, 512.329]  \n",
      "4  (32.0, 48.0]   (7.91, 14.454]  \n"
     ]
    }
   ],
   "source": [
    "print(train_df.head())"
   ]
  },
  {
   "cell_type": "code",
   "execution_count": 17,
   "id": "5c3849ac",
   "metadata": {},
   "outputs": [
    {
     "name": "stdout",
     "output_type": "stream",
     "text": [
      "   PassengerId  Pclass                                          Name     Sex  \\\n",
      "0          892       3                              Kelly, Mr. James    male   \n",
      "1          893       3              Wilkes, Mrs. James (Ellen Needs)  female   \n",
      "2          894       2                     Myles, Mr. Thomas Francis    male   \n",
      "3          895       3                              Wirz, Mr. Albert    male   \n",
      "4          896       3  Hirvonen, Mrs. Alexander (Helga E Lindqvist)  female   \n",
      "\n",
      "      Age  SibSp  Parch   Ticket     Fare Cabin Embarked Title  FamilySize  \\\n",
      "0  34.500      0      0   330911   7.8292   NaN        Q    Mr           1   \n",
      "1  47.000      1      0   363272   7.0000   NaN        S   Mrs           2   \n",
      "2  54.875      0      0   240276   9.6875   NaN        Q    Mr           1   \n",
      "3  27.000      0      0   315154   8.6625   NaN        S    Mr           1   \n",
      "4  22.000      1      1  3101298  12.2875   NaN        S   Mrs           3   \n",
      "\n",
      "   IsAlone        AgeBin          FareBin  \n",
      "0        1  (30.4, 45.6]  (-0.001, 7.896]  \n",
      "1        0  (45.6, 60.8]  (-0.001, 7.896]  \n",
      "2        1  (60.8, 76.0]  (7.896, 14.454]  \n",
      "3        1  (15.2, 30.4]  (7.896, 14.454]  \n",
      "4        0  (15.2, 30.4]  (7.896, 14.454]  \n"
     ]
    }
   ],
   "source": [
    "print(test_df.head())"
   ]
  },
  {
   "cell_type": "code",
   "execution_count": 23,
   "id": "b00bb6d5",
   "metadata": {},
   "outputs": [
    {
     "data": {
      "image/png": "[encoded data removed]",
      "text/plain": [
       "<Figure size 1000x600 with 2 Axes>"
      ]
     },
     "metadata": {},
     "output_type": "display_data"
    }
   ],
   "source": [
    "# lets visualise the data\n",
    "plt.figure(figsize=(10, 6))\n",
    "plt.subplot(1, 2, 1)\n",
    "sns.boxplot(x=train_df[\"Age\"])\n",
    "plt.title('Passenger age boxplot')\n",
    "\n",
    "plt.subplot(1, 2, 2)\n",
    "sns.boxplot(x=train_df[\"Fare\"])\n",
    "plt.title('travel fare boxplot')\n",
    "\n",
    "plt.show()"
   ]
  },
  {
   "cell_type": "code",
   "execution_count": null,
   "id": "99aff23a",
   "metadata": {},
   "outputs": [],
   "source": []
  }
 ],
 "metadata": {
  "kernelspec": {
   "display_name": "Python 3 (ipykernel)",
   "language": "python",
   "name": "python3"
  },
  "language_info": {
   "codemirror_mode": {
    "name": "ipython",
    "version": 3
   },
   "file_extension": ".py",
   "mimetype": "text/x-python",
   "name": "python",
   "nbconvert_exporter": "python",
   "pygments_lexer": "ipython3",
   "version": "3.10.9"
  }
 },
 "nbformat": 4,
 "nbformat_minor": 5
}
